{
 "cells": [
  {
   "cell_type": "markdown",
   "id": "6b344d6c",
   "metadata": {},
   "source": [
    "Perform clustering (hierarchical,K means clustering and DBSCAN) for the airlines data to obtain optimum number of clusters. \n",
    "Draw the inferences from the clusters obtained."
   ]
  },
  {
   "cell_type": "code",
   "execution_count": 1,
   "id": "b248e56f",
   "metadata": {},
   "outputs": [],
   "source": [
    "import scipy.cluster.hierarchy as sch\n",
    "from sklearn.cluster import AgglomerativeClustering\n",
    "import numpy as np\n",
    "import pandas as pd\n",
    "from matplotlib import pyplot as plt\n",
    "import seaborn as sn"
   ]
  },
  {
   "cell_type": "markdown",
   "id": "253f39fd",
   "metadata": {},
   "source": [
    "Given data is in Excel format so reading it and changing to csv and saving in the same path where the excel file exists"
   ]
  },
  {
   "cell_type": "code",
   "execution_count": 2,
   "id": "90b2d7e4",
   "metadata": {},
   "outputs": [],
   "source": [
    "read_file = pd.read_excel (r'C:\\Users\\0004IW744\\Desktop\\Python\\Assignments\\7.Clustering\\EastWestAirlines.xlsx',sheet_name = 'data')"
   ]
  },
  {
   "cell_type": "code",
   "execution_count": 3,
   "id": "986c0193",
   "metadata": {},
   "outputs": [],
   "source": [
    "read_file.to_csv (r'C:\\Users\\0004IW744\\Desktop\\Python\\Assignments\\7.Clustering\\EastWestAirlines.csv', \n",
    "                         index = None, header=True)"
   ]
  },
  {
   "cell_type": "code",
   "execution_count": 4,
   "id": "c5633b34",
   "metadata": {},
   "outputs": [],
   "source": [
    "data = pd.read_csv(\"C:/Users/0004IW744/Desktop/Python/Assignments/7.Clustering/EastWestAirlines.csv\")"
   ]
  },
  {
   "cell_type": "markdown",
   "id": "c15169d1",
   "metadata": {},
   "source": [
    "# EDA-1"
   ]
  },
  {
   "cell_type": "code",
   "execution_count": 19,
   "id": "b64abbdd",
   "metadata": {},
   "outputs": [
    {
     "name": "stdout",
     "output_type": "stream",
     "text": [
      "<class 'pandas.core.frame.DataFrame'>\n",
      "RangeIndex: 3999 entries, 0 to 3998\n",
      "Data columns (total 12 columns):\n",
      " #   Column             Non-Null Count  Dtype\n",
      "---  ------             --------------  -----\n",
      " 0   ID#                3999 non-null   int64\n",
      " 1   Balance            3999 non-null   int64\n",
      " 2   Qual_miles         3999 non-null   int64\n",
      " 3   cc1_miles          3999 non-null   int64\n",
      " 4   cc2_miles          3999 non-null   int64\n",
      " 5   cc3_miles          3999 non-null   int64\n",
      " 6   Bonus_miles        3999 non-null   int64\n",
      " 7   Bonus_trans        3999 non-null   int64\n",
      " 8   Flight_miles_12mo  3999 non-null   int64\n",
      " 9   Flight_trans_12    3999 non-null   int64\n",
      " 10  Days_since_enroll  3999 non-null   int64\n",
      " 11  Award?             3999 non-null   int64\n",
      "dtypes: int64(12)\n",
      "memory usage: 375.0 KB\n"
     ]
    }
   ],
   "source": [
    "data.info()"
   ]
  },
  {
   "cell_type": "code",
   "execution_count": 21,
   "id": "192bac16",
   "metadata": {},
   "outputs": [
    {
     "data": {
      "text/html": [
       "<div>\n",
       "<style scoped>\n",
       "    .dataframe tbody tr th:only-of-type {\n",
       "        vertical-align: middle;\n",
       "    }\n",
       "\n",
       "    .dataframe tbody tr th {\n",
       "        vertical-align: top;\n",
       "    }\n",
       "\n",
       "    .dataframe thead th {\n",
       "        text-align: right;\n",
       "    }\n",
       "</style>\n",
       "<table border=\"1\" class=\"dataframe\">\n",
       "  <thead>\n",
       "    <tr style=\"text-align: right;\">\n",
       "      <th></th>\n",
       "      <th>ID#</th>\n",
       "      <th>Balance</th>\n",
       "      <th>Qual_miles</th>\n",
       "      <th>cc1_miles</th>\n",
       "      <th>cc2_miles</th>\n",
       "      <th>cc3_miles</th>\n",
       "      <th>Bonus_miles</th>\n",
       "      <th>Bonus_trans</th>\n",
       "      <th>Flight_miles_12mo</th>\n",
       "      <th>Flight_trans_12</th>\n",
       "      <th>Days_since_enroll</th>\n",
       "      <th>Award?</th>\n",
       "    </tr>\n",
       "  </thead>\n",
       "  <tbody>\n",
       "    <tr>\n",
       "      <th>0</th>\n",
       "      <td>1</td>\n",
       "      <td>28143</td>\n",
       "      <td>0</td>\n",
       "      <td>1</td>\n",
       "      <td>1</td>\n",
       "      <td>1</td>\n",
       "      <td>174</td>\n",
       "      <td>1</td>\n",
       "      <td>0</td>\n",
       "      <td>0</td>\n",
       "      <td>7000</td>\n",
       "      <td>0</td>\n",
       "    </tr>\n",
       "    <tr>\n",
       "      <th>1</th>\n",
       "      <td>2</td>\n",
       "      <td>19244</td>\n",
       "      <td>0</td>\n",
       "      <td>1</td>\n",
       "      <td>1</td>\n",
       "      <td>1</td>\n",
       "      <td>215</td>\n",
       "      <td>2</td>\n",
       "      <td>0</td>\n",
       "      <td>0</td>\n",
       "      <td>6968</td>\n",
       "      <td>0</td>\n",
       "    </tr>\n",
       "    <tr>\n",
       "      <th>2</th>\n",
       "      <td>3</td>\n",
       "      <td>41354</td>\n",
       "      <td>0</td>\n",
       "      <td>1</td>\n",
       "      <td>1</td>\n",
       "      <td>1</td>\n",
       "      <td>4123</td>\n",
       "      <td>4</td>\n",
       "      <td>0</td>\n",
       "      <td>0</td>\n",
       "      <td>7034</td>\n",
       "      <td>0</td>\n",
       "    </tr>\n",
       "    <tr>\n",
       "      <th>3</th>\n",
       "      <td>4</td>\n",
       "      <td>14776</td>\n",
       "      <td>0</td>\n",
       "      <td>1</td>\n",
       "      <td>1</td>\n",
       "      <td>1</td>\n",
       "      <td>500</td>\n",
       "      <td>1</td>\n",
       "      <td>0</td>\n",
       "      <td>0</td>\n",
       "      <td>6952</td>\n",
       "      <td>0</td>\n",
       "    </tr>\n",
       "    <tr>\n",
       "      <th>4</th>\n",
       "      <td>5</td>\n",
       "      <td>97752</td>\n",
       "      <td>0</td>\n",
       "      <td>4</td>\n",
       "      <td>1</td>\n",
       "      <td>1</td>\n",
       "      <td>43300</td>\n",
       "      <td>26</td>\n",
       "      <td>2077</td>\n",
       "      <td>4</td>\n",
       "      <td>6935</td>\n",
       "      <td>1</td>\n",
       "    </tr>\n",
       "  </tbody>\n",
       "</table>\n",
       "</div>"
      ],
      "text/plain": [
       "   ID#  Balance  Qual_miles  cc1_miles  cc2_miles  cc3_miles  Bonus_miles  \\\n",
       "0    1    28143           0          1          1          1          174   \n",
       "1    2    19244           0          1          1          1          215   \n",
       "2    3    41354           0          1          1          1         4123   \n",
       "3    4    14776           0          1          1          1          500   \n",
       "4    5    97752           0          4          1          1        43300   \n",
       "\n",
       "   Bonus_trans  Flight_miles_12mo  Flight_trans_12  Days_since_enroll  Award?  \n",
       "0            1                  0                0               7000       0  \n",
       "1            2                  0                0               6968       0  \n",
       "2            4                  0                0               7034       0  \n",
       "3            1                  0                0               6952       0  \n",
       "4           26               2077                4               6935       1  "
      ]
     },
     "execution_count": 21,
     "metadata": {},
     "output_type": "execute_result"
    }
   ],
   "source": [
    "data.head()"
   ]
  },
  {
   "cell_type": "markdown",
   "id": "1a48ef7e",
   "metadata": {},
   "source": [
    "# 1)Hierarchical Clustering"
   ]
  },
  {
   "cell_type": "code",
   "execution_count": 22,
   "id": "3b428b4c",
   "metadata": {},
   "outputs": [],
   "source": [
    "data_hie = data"
   ]
  },
  {
   "cell_type": "code",
   "execution_count": 26,
   "id": "f3d55a42",
   "metadata": {},
   "outputs": [],
   "source": [
    "def norm_func(i):\n",
    "    x = (i-i.min())/(i.max()-i.min())\n",
    "    return (x)"
   ]
  },
  {
   "cell_type": "code",
   "execution_count": 27,
   "id": "d753a0e5",
   "metadata": {},
   "outputs": [],
   "source": [
    "data_hie_norm = norm_func(data_hie.iloc[:,1:]) #Normalizing the numerical data only"
   ]
  },
  {
   "cell_type": "code",
   "execution_count": 28,
   "id": "2d670a3a",
   "metadata": {},
   "outputs": [
    {
     "data": {
      "text/html": [
       "<div>\n",
       "<style scoped>\n",
       "    .dataframe tbody tr th:only-of-type {\n",
       "        vertical-align: middle;\n",
       "    }\n",
       "\n",
       "    .dataframe tbody tr th {\n",
       "        vertical-align: top;\n",
       "    }\n",
       "\n",
       "    .dataframe thead th {\n",
       "        text-align: right;\n",
       "    }\n",
       "</style>\n",
       "<table border=\"1\" class=\"dataframe\">\n",
       "  <thead>\n",
       "    <tr style=\"text-align: right;\">\n",
       "      <th></th>\n",
       "      <th>Balance</th>\n",
       "      <th>Qual_miles</th>\n",
       "      <th>cc1_miles</th>\n",
       "      <th>cc2_miles</th>\n",
       "      <th>cc3_miles</th>\n",
       "      <th>Bonus_miles</th>\n",
       "      <th>Bonus_trans</th>\n",
       "      <th>Flight_miles_12mo</th>\n",
       "      <th>Flight_trans_12</th>\n",
       "      <th>Days_since_enroll</th>\n",
       "      <th>Award?</th>\n",
       "    </tr>\n",
       "  </thead>\n",
       "  <tbody>\n",
       "    <tr>\n",
       "      <th>0</th>\n",
       "      <td>0.016508</td>\n",
       "      <td>0.0</td>\n",
       "      <td>0.00</td>\n",
       "      <td>0.0</td>\n",
       "      <td>0.0</td>\n",
       "      <td>0.000660</td>\n",
       "      <td>0.011628</td>\n",
       "      <td>0.000000</td>\n",
       "      <td>0.000000</td>\n",
       "      <td>0.843742</td>\n",
       "      <td>0.0</td>\n",
       "    </tr>\n",
       "    <tr>\n",
       "      <th>1</th>\n",
       "      <td>0.011288</td>\n",
       "      <td>0.0</td>\n",
       "      <td>0.00</td>\n",
       "      <td>0.0</td>\n",
       "      <td>0.0</td>\n",
       "      <td>0.000815</td>\n",
       "      <td>0.023256</td>\n",
       "      <td>0.000000</td>\n",
       "      <td>0.000000</td>\n",
       "      <td>0.839884</td>\n",
       "      <td>0.0</td>\n",
       "    </tr>\n",
       "    <tr>\n",
       "      <th>2</th>\n",
       "      <td>0.024257</td>\n",
       "      <td>0.0</td>\n",
       "      <td>0.00</td>\n",
       "      <td>0.0</td>\n",
       "      <td>0.0</td>\n",
       "      <td>0.015636</td>\n",
       "      <td>0.046512</td>\n",
       "      <td>0.000000</td>\n",
       "      <td>0.000000</td>\n",
       "      <td>0.847842</td>\n",
       "      <td>0.0</td>\n",
       "    </tr>\n",
       "    <tr>\n",
       "      <th>3</th>\n",
       "      <td>0.008667</td>\n",
       "      <td>0.0</td>\n",
       "      <td>0.00</td>\n",
       "      <td>0.0</td>\n",
       "      <td>0.0</td>\n",
       "      <td>0.001896</td>\n",
       "      <td>0.011628</td>\n",
       "      <td>0.000000</td>\n",
       "      <td>0.000000</td>\n",
       "      <td>0.837955</td>\n",
       "      <td>0.0</td>\n",
       "    </tr>\n",
       "    <tr>\n",
       "      <th>4</th>\n",
       "      <td>0.057338</td>\n",
       "      <td>0.0</td>\n",
       "      <td>0.75</td>\n",
       "      <td>0.0</td>\n",
       "      <td>0.0</td>\n",
       "      <td>0.164211</td>\n",
       "      <td>0.302326</td>\n",
       "      <td>0.067398</td>\n",
       "      <td>0.075472</td>\n",
       "      <td>0.835905</td>\n",
       "      <td>1.0</td>\n",
       "    </tr>\n",
       "  </tbody>\n",
       "</table>\n",
       "</div>"
      ],
      "text/plain": [
       "    Balance  Qual_miles  cc1_miles  cc2_miles  cc3_miles  Bonus_miles  \\\n",
       "0  0.016508         0.0       0.00        0.0        0.0     0.000660   \n",
       "1  0.011288         0.0       0.00        0.0        0.0     0.000815   \n",
       "2  0.024257         0.0       0.00        0.0        0.0     0.015636   \n",
       "3  0.008667         0.0       0.00        0.0        0.0     0.001896   \n",
       "4  0.057338         0.0       0.75        0.0        0.0     0.164211   \n",
       "\n",
       "   Bonus_trans  Flight_miles_12mo  Flight_trans_12  Days_since_enroll  Award?  \n",
       "0     0.011628           0.000000         0.000000           0.843742     0.0  \n",
       "1     0.023256           0.000000         0.000000           0.839884     0.0  \n",
       "2     0.046512           0.000000         0.000000           0.847842     0.0  \n",
       "3     0.011628           0.000000         0.000000           0.837955     0.0  \n",
       "4     0.302326           0.067398         0.075472           0.835905     1.0  "
      ]
     },
     "execution_count": 28,
     "metadata": {},
     "output_type": "execute_result"
    }
   ],
   "source": [
    "data_hie_norm.head()"
   ]
  },
  {
   "cell_type": "code",
   "execution_count": 33,
   "id": "f60ea00b",
   "metadata": {},
   "outputs": [
    {
     "data": {
      "image/png": "[encoded data removed]",
      "text/plain": [
       "<Figure size 432x288 with 1 Axes>"
      ]
     },
     "metadata": {
      "needs_background": "light"
     },
     "output_type": "display_data"
    }
   ],
   "source": [
    "# creating dendrogram using the average \n",
    "dendrogram = sch.dendrogram(sch.linkage(data_hie_norm, method='average'))"
   ]
  },
  {
   "cell_type": "code",
   "execution_count": 40,
   "id": "28730c27",
   "metadata": {},
   "outputs": [],
   "source": [
    "# create 4 clusters using the euclidean distance\n",
    "hc = AgglomerativeClustering(n_clusters=4, affinity = 'euclidean', linkage = 'average')"
   ]
  },
  {
   "cell_type": "code",
   "execution_count": 41,
   "id": "a75b54ad",
   "metadata": {},
   "outputs": [],
   "source": [
    "y_hc = hc.fit_predict(data_hie_norm)\n",
    "Clusters=pd.DataFrame(y_hc,columns=['Clusters'])"
   ]
  },
  {
   "cell_type": "code",
   "execution_count": 42,
   "id": "6d1e31b7",
   "metadata": {},
   "outputs": [],
   "source": [
    "# assigning Clusters as h_clusterid\n",
    "data_hie_norm['h_clusterid'] = Clusters"
   ]
  },
  {
   "cell_type": "code",
   "execution_count": 43,
   "id": "0f47775b",
   "metadata": {},
   "outputs": [
    {
     "data": {
      "text/html": [
       "<div>\n",
       "<style scoped>\n",
       "    .dataframe tbody tr th:only-of-type {\n",
       "        vertical-align: middle;\n",
       "    }\n",
       "\n",
       "    .dataframe tbody tr th {\n",
       "        vertical-align: top;\n",
       "    }\n",
       "\n",
       "    .dataframe thead th {\n",
       "        text-align: right;\n",
       "    }\n",
       "</style>\n",
       "<table border=\"1\" class=\"dataframe\">\n",
       "  <thead>\n",
       "    <tr style=\"text-align: right;\">\n",
       "      <th></th>\n",
       "      <th>Balance</th>\n",
       "      <th>Qual_miles</th>\n",
       "      <th>cc1_miles</th>\n",
       "      <th>cc2_miles</th>\n",
       "      <th>cc3_miles</th>\n",
       "      <th>Bonus_miles</th>\n",
       "      <th>Bonus_trans</th>\n",
       "      <th>Flight_miles_12mo</th>\n",
       "      <th>Flight_trans_12</th>\n",
       "      <th>Days_since_enroll</th>\n",
       "      <th>Award?</th>\n",
       "      <th>h_clusterid</th>\n",
       "    </tr>\n",
       "  </thead>\n",
       "  <tbody>\n",
       "    <tr>\n",
       "      <th>0</th>\n",
       "      <td>0.016508</td>\n",
       "      <td>0.0</td>\n",
       "      <td>0.00</td>\n",
       "      <td>0.0</td>\n",
       "      <td>0.0</td>\n",
       "      <td>0.000660</td>\n",
       "      <td>0.011628</td>\n",
       "      <td>0.000000</td>\n",
       "      <td>0.000000</td>\n",
       "      <td>0.843742</td>\n",
       "      <td>0.0</td>\n",
       "      <td>2</td>\n",
       "    </tr>\n",
       "    <tr>\n",
       "      <th>1</th>\n",
       "      <td>0.011288</td>\n",
       "      <td>0.0</td>\n",
       "      <td>0.00</td>\n",
       "      <td>0.0</td>\n",
       "      <td>0.0</td>\n",
       "      <td>0.000815</td>\n",
       "      <td>0.023256</td>\n",
       "      <td>0.000000</td>\n",
       "      <td>0.000000</td>\n",
       "      <td>0.839884</td>\n",
       "      <td>0.0</td>\n",
       "      <td>2</td>\n",
       "    </tr>\n",
       "    <tr>\n",
       "      <th>2</th>\n",
       "      <td>0.024257</td>\n",
       "      <td>0.0</td>\n",
       "      <td>0.00</td>\n",
       "      <td>0.0</td>\n",
       "      <td>0.0</td>\n",
       "      <td>0.015636</td>\n",
       "      <td>0.046512</td>\n",
       "      <td>0.000000</td>\n",
       "      <td>0.000000</td>\n",
       "      <td>0.847842</td>\n",
       "      <td>0.0</td>\n",
       "      <td>2</td>\n",
       "    </tr>\n",
       "    <tr>\n",
       "      <th>3</th>\n",
       "      <td>0.008667</td>\n",
       "      <td>0.0</td>\n",
       "      <td>0.00</td>\n",
       "      <td>0.0</td>\n",
       "      <td>0.0</td>\n",
       "      <td>0.001896</td>\n",
       "      <td>0.011628</td>\n",
       "      <td>0.000000</td>\n",
       "      <td>0.000000</td>\n",
       "      <td>0.837955</td>\n",
       "      <td>0.0</td>\n",
       "      <td>2</td>\n",
       "    </tr>\n",
       "    <tr>\n",
       "      <th>4</th>\n",
       "      <td>0.057338</td>\n",
       "      <td>0.0</td>\n",
       "      <td>0.75</td>\n",
       "      <td>0.0</td>\n",
       "      <td>0.0</td>\n",
       "      <td>0.164211</td>\n",
       "      <td>0.302326</td>\n",
       "      <td>0.067398</td>\n",
       "      <td>0.075472</td>\n",
       "      <td>0.835905</td>\n",
       "      <td>1.0</td>\n",
       "      <td>2</td>\n",
       "    </tr>\n",
       "    <tr>\n",
       "      <th>...</th>\n",
       "      <td>...</td>\n",
       "      <td>...</td>\n",
       "      <td>...</td>\n",
       "      <td>...</td>\n",
       "      <td>...</td>\n",
       "      <td>...</td>\n",
       "      <td>...</td>\n",
       "      <td>...</td>\n",
       "      <td>...</td>\n",
       "      <td>...</td>\n",
       "      <td>...</td>\n",
       "      <td>...</td>\n",
       "    </tr>\n",
       "    <tr>\n",
       "      <th>3994</th>\n",
       "      <td>0.010837</td>\n",
       "      <td>0.0</td>\n",
       "      <td>0.00</td>\n",
       "      <td>0.0</td>\n",
       "      <td>0.0</td>\n",
       "      <td>0.032330</td>\n",
       "      <td>0.046512</td>\n",
       "      <td>0.006490</td>\n",
       "      <td>0.018868</td>\n",
       "      <td>0.168917</td>\n",
       "      <td>1.0</td>\n",
       "      <td>2</td>\n",
       "    </tr>\n",
       "    <tr>\n",
       "      <th>3995</th>\n",
       "      <td>0.037766</td>\n",
       "      <td>0.0</td>\n",
       "      <td>0.00</td>\n",
       "      <td>0.0</td>\n",
       "      <td>0.0</td>\n",
       "      <td>0.003720</td>\n",
       "      <td>0.058140</td>\n",
       "      <td>0.000000</td>\n",
       "      <td>0.000000</td>\n",
       "      <td>0.167953</td>\n",
       "      <td>1.0</td>\n",
       "      <td>2</td>\n",
       "    </tr>\n",
       "    <tr>\n",
       "      <th>3996</th>\n",
       "      <td>0.043169</td>\n",
       "      <td>0.0</td>\n",
       "      <td>0.50</td>\n",
       "      <td>0.0</td>\n",
       "      <td>0.0</td>\n",
       "      <td>0.096505</td>\n",
       "      <td>0.093023</td>\n",
       "      <td>0.000000</td>\n",
       "      <td>0.000000</td>\n",
       "      <td>0.168797</td>\n",
       "      <td>1.0</td>\n",
       "      <td>2</td>\n",
       "    </tr>\n",
       "    <tr>\n",
       "      <th>3997</th>\n",
       "      <td>0.032202</td>\n",
       "      <td>0.0</td>\n",
       "      <td>0.00</td>\n",
       "      <td>0.0</td>\n",
       "      <td>0.0</td>\n",
       "      <td>0.001896</td>\n",
       "      <td>0.011628</td>\n",
       "      <td>0.016225</td>\n",
       "      <td>0.018868</td>\n",
       "      <td>0.168676</td>\n",
       "      <td>0.0</td>\n",
       "      <td>2</td>\n",
       "    </tr>\n",
       "    <tr>\n",
       "      <th>3998</th>\n",
       "      <td>0.001769</td>\n",
       "      <td>0.0</td>\n",
       "      <td>0.00</td>\n",
       "      <td>0.0</td>\n",
       "      <td>0.0</td>\n",
       "      <td>0.000000</td>\n",
       "      <td>0.000000</td>\n",
       "      <td>0.000000</td>\n",
       "      <td>0.000000</td>\n",
       "      <td>0.168314</td>\n",
       "      <td>0.0</td>\n",
       "      <td>2</td>\n",
       "    </tr>\n",
       "  </tbody>\n",
       "</table>\n",
       "<p>3999 rows × 12 columns</p>\n",
       "</div>"
      ],
      "text/plain": [
       "       Balance  Qual_miles  cc1_miles  cc2_miles  cc3_miles  Bonus_miles  \\\n",
       "0     0.016508         0.0       0.00        0.0        0.0     0.000660   \n",
       "1     0.011288         0.0       0.00        0.0        0.0     0.000815   \n",
       "2     0.024257         0.0       0.00        0.0        0.0     0.015636   \n",
       "3     0.008667         0.0       0.00        0.0        0.0     0.001896   \n",
       "4     0.057338         0.0       0.75        0.0        0.0     0.164211   \n",
       "...        ...         ...        ...        ...        ...          ...   \n",
       "3994  0.010837         0.0       0.00        0.0        0.0     0.032330   \n",
       "3995  0.037766         0.0       0.00        0.0        0.0     0.003720   \n",
       "3996  0.043169         0.0       0.50        0.0        0.0     0.096505   \n",
       "3997  0.032202         0.0       0.00        0.0        0.0     0.001896   \n",
       "3998  0.001769         0.0       0.00        0.0        0.0     0.000000   \n",
       "\n",
       "      Bonus_trans  Flight_miles_12mo  Flight_trans_12  Days_since_enroll  \\\n",
       "0        0.011628           0.000000         0.000000           0.843742   \n",
       "1        0.023256           0.000000         0.000000           0.839884   \n",
       "2        0.046512           0.000000         0.000000           0.847842   \n",
       "3        0.011628           0.000000         0.000000           0.837955   \n",
       "4        0.302326           0.067398         0.075472           0.835905   \n",
       "...           ...                ...              ...                ...   \n",
       "3994     0.046512           0.006490         0.018868           0.168917   \n",
       "3995     0.058140           0.000000         0.000000           0.167953   \n",
       "3996     0.093023           0.000000         0.000000           0.168797   \n",
       "3997     0.011628           0.016225         0.018868           0.168676   \n",
       "3998     0.000000           0.000000         0.000000           0.168314   \n",
       "\n",
       "      Award?  h_clusterid  \n",
       "0        0.0            2  \n",
       "1        0.0            2  \n",
       "2        0.0            2  \n",
       "3        0.0            2  \n",
       "4        1.0            2  \n",
       "...      ...          ...  \n",
       "3994     1.0            2  \n",
       "3995     1.0            2  \n",
       "3996     1.0            2  \n",
       "3997     0.0            2  \n",
       "3998     0.0            2  \n",
       "\n",
       "[3999 rows x 12 columns]"
      ]
     },
     "execution_count": 43,
     "metadata": {},
     "output_type": "execute_result"
    }
   ],
   "source": [
    "data_hie_norm"
   ]
  },
  {
   "cell_type": "code",
   "execution_count": 44,
   "id": "51988d24",
   "metadata": {},
   "outputs": [
    {
     "data": {
      "text/plain": [
       "<bound method DataFrame.reset_index of               Balance Qual_miles cc1_miles cc2_miles cc3_miles Bonus_miles  \\\n",
       "                 mean       mean      mean      mean      mean        mean   \n",
       "h_clusterid                                                                  \n",
       "0            0.139716   0.003588  0.270000  0.460000  0.000000    0.278508   \n",
       "1            0.055749   0.019211  0.604167  0.000000  0.541667    0.374412   \n",
       "2            0.042369   0.012971  0.263759  0.004418  0.001452    0.062730   \n",
       "3            0.659931   0.000000  0.500000  0.000000  0.000000    0.087400   \n",
       "\n",
       "            Bonus_trans Flight_miles_12mo Flight_trans_12 Days_since_enroll  \\\n",
       "                   mean              mean            mean              mean   \n",
       "h_clusterid                                                                   \n",
       "0              0.280465          0.053400        0.107925          0.611493   \n",
       "1              0.502907          0.228878        0.334906          0.500362   \n",
       "2              0.132865          0.014041        0.024470          0.495469   \n",
       "3              0.162791          0.000000        0.000000          0.977212   \n",
       "\n",
       "               Award?  \n",
       "                 mean  \n",
       "h_clusterid            \n",
       "0            1.000000  \n",
       "1            1.000000  \n",
       "2            0.364554  \n",
       "3            0.000000  >"
      ]
     },
     "execution_count": 44,
     "metadata": {},
     "output_type": "execute_result"
    }
   ],
   "source": [
    "#Grouping the same clusters and taking average and showing below\n",
    "data_hie_norm.groupby(['h_clusterid']).agg(['mean']).reset_index"
   ]
  },
  {
   "cell_type": "markdown",
   "id": "37787f77",
   "metadata": {},
   "source": [
    "# K-Means Clustering"
   ]
  },
  {
   "cell_type": "code",
   "execution_count": 45,
   "id": "355e7724",
   "metadata": {},
   "outputs": [],
   "source": [
    "from sklearn.cluster import KMeans"
   ]
  },
  {
   "cell_type": "code",
   "execution_count": 46,
   "id": "a3b1cf01",
   "metadata": {},
   "outputs": [],
   "source": [
    "data_KMeans = data"
   ]
  },
  {
   "cell_type": "code",
   "execution_count": 47,
   "id": "beddf2ea",
   "metadata": {},
   "outputs": [],
   "source": [
    "from sklearn.preprocessing import StandardScaler\n",
    "scaler = StandardScaler()\n",
    "scaled_data_KMeans = scaler.fit_transform(data_KMeans.iloc[:,1:])"
   ]
  },
  {
   "cell_type": "code",
   "execution_count": 48,
   "id": "b9cf8b8e",
   "metadata": {},
   "outputs": [
    {
     "data": {
      "image/png": "[encoded data removed]",
      "text/plain": [
       "<Figure size 432x288 with 1 Axes>"
      ]
     },
     "metadata": {
      "needs_background": "light"
     },
     "output_type": "display_data"
    }
   ],
   "source": [
    "wcss = []\n",
    "for i in range(1, 11):\n",
    "    kmeans = KMeans(n_clusters=i,random_state=0)\n",
    "    kmeans.fit(scaled_data_KMeans)\n",
    "    wcss.append(kmeans.inertia_)\n",
    "    \n",
    "plt.plot(range(1, 11), wcss)\n",
    "plt.title('Elbow Method')\n",
    "plt.xlabel('No. of clusters')\n",
    "plt.ylabel('WCSS')\n",
    "plt.show()"
   ]
  },
  {
   "cell_type": "code",
   "execution_count": 49,
   "id": "ecef9348",
   "metadata": {},
   "outputs": [
    {
     "data": {
      "text/plain": [
       "KMeans(n_clusters=6, random_state=80)"
      ]
     },
     "execution_count": 49,
     "metadata": {},
     "output_type": "execute_result"
    }
   ],
   "source": [
    "#Build Cluster algorithm\n",
    "from sklearn.cluster import KMeans\n",
    "clusters_new = KMeans(6, random_state=80)\n",
    "clusters_new.fit(scaled_data_KMeans)"
   ]
  },
  {
   "cell_type": "code",
   "execution_count": 50,
   "id": "2dfd666d",
   "metadata": {},
   "outputs": [
    {
     "data": {
      "text/plain": [
       "array([0, 0, 0, ..., 3, 0, 0])"
      ]
     },
     "execution_count": 50,
     "metadata": {},
     "output_type": "execute_result"
    }
   ],
   "source": [
    "clusters_new.labels_"
   ]
  },
  {
   "cell_type": "code",
   "execution_count": 51,
   "id": "73d89d79",
   "metadata": {},
   "outputs": [],
   "source": [
    "#Assign clusters to the data set\n",
    "data_KMeans['clusterid_new'] = clusters_new.labels_"
   ]
  },
  {
   "cell_type": "code",
   "execution_count": 52,
   "id": "0cc57d89",
   "metadata": {},
   "outputs": [
    {
     "data": {
      "text/plain": [
       "array([[-2.99877828e-01, -8.38812329e-02, -5.46113065e-01,\n",
       "        -9.82418871e-02, -6.03002720e-02, -5.13327798e-01,\n",
       "        -4.63891883e-01, -2.19653439e-01, -2.41189389e-01,\n",
       "        -2.41730646e-01, -7.66919299e-01],\n",
       "       [ 1.18497374e+00,  8.59375779e-01,  1.17640796e-01,\n",
       "        -9.82418871e-02, -6.27665798e-02,  6.50604815e-01,\n",
       "         1.67831675e+00,  3.68566141e+00,  3.96263839e+00,\n",
       "         3.01585091e-01,  8.86971020e-01],\n",
       "       [ 6.27503218e-01, -1.02952756e-02,  1.48740893e+00,\n",
       "        -9.82418871e-02, -5.14335677e-02,  1.26597388e+00,\n",
       "         8.37240383e-01, -7.14137245e-02, -7.28368716e-02,\n",
       "         4.59934719e-01,  4.42596385e-01],\n",
       "       [-1.58516994e-01,  7.82563298e-02, -2.64447358e-01,\n",
       "        -9.82418871e-02, -6.27665798e-02, -2.69448126e-01,\n",
       "        -1.18024495e-01, -4.02581571e-02, -4.19341205e-02,\n",
       "         5.04010476e-02,  1.29881129e+00],\n",
       "       [-4.68896637e-02, -1.56235600e-01, -6.68227273e-01,\n",
       "         9.03825361e+00, -6.27665798e-02, -1.01665326e-01,\n",
       "         6.17851143e-01,  8.75493989e-02,  2.20346809e-01,\n",
       "        -7.24639805e-02,  5.17838824e-02],\n",
       "       [ 6.39719256e-01, -8.44329231e-02,  1.02208440e+00,\n",
       "        -9.82418871e-02,  1.56462993e+01,  3.17969131e+00,\n",
       "         1.71461374e+00,  3.32926913e-02,  5.96953922e-02,\n",
       "         2.39872612e-01,  3.37527346e-01]])"
      ]
     },
     "execution_count": 52,
     "metadata": {},
     "output_type": "execute_result"
    }
   ],
   "source": [
    "#these are standardized values.\n",
    "clusters_new.cluster_centers_"
   ]
  },
  {
   "cell_type": "code",
   "execution_count": 53,
   "id": "7770adf8",
   "metadata": {},
   "outputs": [
    {
     "data": {
      "text/html": [
       "<div>\n",
       "<style scoped>\n",
       "    .dataframe tbody tr th:only-of-type {\n",
       "        vertical-align: middle;\n",
       "    }\n",
       "\n",
       "    .dataframe tbody tr th {\n",
       "        vertical-align: top;\n",
       "    }\n",
       "\n",
       "    .dataframe thead tr th {\n",
       "        text-align: left;\n",
       "    }\n",
       "</style>\n",
       "<table border=\"1\" class=\"dataframe\">\n",
       "  <thead>\n",
       "    <tr>\n",
       "      <th></th>\n",
       "      <th>clusterid_new</th>\n",
       "      <th>ID#</th>\n",
       "      <th>Balance</th>\n",
       "      <th>Qual_miles</th>\n",
       "      <th>cc1_miles</th>\n",
       "      <th>cc2_miles</th>\n",
       "      <th>cc3_miles</th>\n",
       "      <th>Bonus_miles</th>\n",
       "      <th>Bonus_trans</th>\n",
       "      <th>Flight_miles_12mo</th>\n",
       "      <th>Flight_trans_12</th>\n",
       "      <th>Days_since_enroll</th>\n",
       "      <th>Award?</th>\n",
       "    </tr>\n",
       "    <tr>\n",
       "      <th></th>\n",
       "      <th></th>\n",
       "      <th>mean</th>\n",
       "      <th>mean</th>\n",
       "      <th>mean</th>\n",
       "      <th>mean</th>\n",
       "      <th>mean</th>\n",
       "      <th>mean</th>\n",
       "      <th>mean</th>\n",
       "      <th>mean</th>\n",
       "      <th>mean</th>\n",
       "      <th>mean</th>\n",
       "      <th>mean</th>\n",
       "      <th>mean</th>\n",
       "    </tr>\n",
       "  </thead>\n",
       "  <tbody>\n",
       "    <tr>\n",
       "      <th>0</th>\n",
       "      <td>0</td>\n",
       "      <td>2279.145402</td>\n",
       "      <td>43384.718825</td>\n",
       "      <td>79.226769</td>\n",
       "      <td>1.307655</td>\n",
       "      <td>1.000000</td>\n",
       "      <td>1.000481</td>\n",
       "      <td>4749.033221</td>\n",
       "      <td>7.147328</td>\n",
       "      <td>152.533462</td>\n",
       "      <td>0.458835</td>\n",
       "      <td>3619.415503</td>\n",
       "      <td>0.000000</td>\n",
       "    </tr>\n",
       "    <tr>\n",
       "      <th>1</th>\n",
       "      <td>1</td>\n",
       "      <td>1712.604027</td>\n",
       "      <td>193002.912752</td>\n",
       "      <td>808.899329</td>\n",
       "      <td>2.221477</td>\n",
       "      <td>1.000000</td>\n",
       "      <td>1.000000</td>\n",
       "      <td>32855.617450</td>\n",
       "      <td>27.718121</td>\n",
       "      <td>5620.107383</td>\n",
       "      <td>16.402685</td>\n",
       "      <td>4741.295302</td>\n",
       "      <td>0.798658</td>\n",
       "    </tr>\n",
       "    <tr>\n",
       "      <th>2</th>\n",
       "      <td>2</td>\n",
       "      <td>1495.059735</td>\n",
       "      <td>136830.474558</td>\n",
       "      <td>136.150442</td>\n",
       "      <td>4.107301</td>\n",
       "      <td>1.000000</td>\n",
       "      <td>1.002212</td>\n",
       "      <td>47715.517699</td>\n",
       "      <td>19.641593</td>\n",
       "      <td>360.074115</td>\n",
       "      <td>1.097345</td>\n",
       "      <td>5068.267699</td>\n",
       "      <td>0.584071</td>\n",
       "    </tr>\n",
       "    <tr>\n",
       "      <th>3</th>\n",
       "      <td>3</td>\n",
       "      <td>1965.733662</td>\n",
       "      <td>57628.669544</td>\n",
       "      <td>204.651048</td>\n",
       "      <td>1.695438</td>\n",
       "      <td>1.000000</td>\n",
       "      <td>1.000000</td>\n",
       "      <td>10638.226880</td>\n",
       "      <td>10.468557</td>\n",
       "      <td>403.692972</td>\n",
       "      <td>1.214550</td>\n",
       "      <td>4222.631319</td>\n",
       "      <td>0.997534</td>\n",
       "    </tr>\n",
       "    <tr>\n",
       "      <th>4</th>\n",
       "      <td>4</td>\n",
       "      <td>2269.372093</td>\n",
       "      <td>68876.581395</td>\n",
       "      <td>23.255814</td>\n",
       "      <td>1.139535</td>\n",
       "      <td>2.348837</td>\n",
       "      <td>1.000000</td>\n",
       "      <td>14689.837209</td>\n",
       "      <td>17.534884</td>\n",
       "      <td>582.627907</td>\n",
       "      <td>2.209302</td>\n",
       "      <td>3968.930233</td>\n",
       "      <td>0.395349</td>\n",
       "    </tr>\n",
       "    <tr>\n",
       "      <th>5</th>\n",
       "      <td>5</td>\n",
       "      <td>1664.866667</td>\n",
       "      <td>138061.400000</td>\n",
       "      <td>78.800000</td>\n",
       "      <td>3.466667</td>\n",
       "      <td>1.000000</td>\n",
       "      <td>4.066667</td>\n",
       "      <td>93927.866667</td>\n",
       "      <td>28.066667</td>\n",
       "      <td>506.666667</td>\n",
       "      <td>1.600000</td>\n",
       "      <td>4613.866667</td>\n",
       "      <td>0.533333</td>\n",
       "    </tr>\n",
       "  </tbody>\n",
       "</table>\n",
       "</div>"
      ],
      "text/plain": [
       "  clusterid_new          ID#        Balance  Qual_miles cc1_miles cc2_miles  \\\n",
       "                        mean           mean        mean      mean      mean   \n",
       "0             0  2279.145402   43384.718825   79.226769  1.307655  1.000000   \n",
       "1             1  1712.604027  193002.912752  808.899329  2.221477  1.000000   \n",
       "2             2  1495.059735  136830.474558  136.150442  4.107301  1.000000   \n",
       "3             3  1965.733662   57628.669544  204.651048  1.695438  1.000000   \n",
       "4             4  2269.372093   68876.581395   23.255814  1.139535  2.348837   \n",
       "5             5  1664.866667  138061.400000   78.800000  3.466667  1.000000   \n",
       "\n",
       "  cc3_miles   Bonus_miles Bonus_trans Flight_miles_12mo Flight_trans_12  \\\n",
       "       mean          mean        mean              mean            mean   \n",
       "0  1.000481   4749.033221    7.147328        152.533462        0.458835   \n",
       "1  1.000000  32855.617450   27.718121       5620.107383       16.402685   \n",
       "2  1.002212  47715.517699   19.641593        360.074115        1.097345   \n",
       "3  1.000000  10638.226880   10.468557        403.692972        1.214550   \n",
       "4  1.000000  14689.837209   17.534884        582.627907        2.209302   \n",
       "5  4.066667  93927.866667   28.066667        506.666667        1.600000   \n",
       "\n",
       "  Days_since_enroll    Award?  \n",
       "               mean      mean  \n",
       "0       3619.415503  0.000000  \n",
       "1       4741.295302  0.798658  \n",
       "2       5068.267699  0.584071  \n",
       "3       4222.631319  0.997534  \n",
       "4       3968.930233  0.395349  \n",
       "5       4613.866667  0.533333  "
      ]
     },
     "execution_count": 53,
     "metadata": {},
     "output_type": "execute_result"
    }
   ],
   "source": [
    "data_KMeans.groupby('clusterid_new').agg(['mean']).reset_index()"
   ]
  },
  {
   "cell_type": "markdown",
   "id": "00746894",
   "metadata": {},
   "source": [
    "# DBSCAN"
   ]
  },
  {
   "cell_type": "code",
   "execution_count": 9,
   "id": "f8e4b342",
   "metadata": {},
   "outputs": [],
   "source": [
    "from sklearn.cluster import DBSCAN\n",
    "from sklearn.preprocessing import StandardScaler"
   ]
  },
  {
   "cell_type": "code",
   "execution_count": 5,
   "id": "0ff9dad5",
   "metadata": {},
   "outputs": [],
   "source": [
    "data_db = data"
   ]
  },
  {
   "cell_type": "code",
   "execution_count": 6,
   "id": "4c316647",
   "metadata": {},
   "outputs": [],
   "source": [
    "# Considering only numerical data \n",
    "data_db_num = data_db.iloc[:,1:]"
   ]
  },
  {
   "cell_type": "code",
   "execution_count": 7,
   "id": "4e1e6c27",
   "metadata": {},
   "outputs": [],
   "source": [
    "# Converting into numpy array\n",
    "data_db_num_array = data_db_num.values"
   ]
  },
  {
   "cell_type": "code",
   "execution_count": 11,
   "id": "c0d743f9",
   "metadata": {},
   "outputs": [],
   "source": [
    "# Normalizing the numerical data \n",
    "stscaler = StandardScaler().fit(data_db_num_array)\n",
    "data_db_num_normal = stscaler.transform(data_db_num_array)"
   ]
  },
  {
   "cell_type": "code",
   "execution_count": 12,
   "id": "a8baf689",
   "metadata": {},
   "outputs": [
    {
     "data": {
      "text/plain": [
       "DBSCAN(eps=1.4, min_samples=6)"
      ]
     },
     "execution_count": 12,
     "metadata": {},
     "output_type": "execute_result"
    }
   ],
   "source": [
    "dbscan = DBSCAN(eps = 1.4, min_samples = 6)\n",
    "dbscan.fit(data_db_num_normal)"
   ]
  },
  {
   "cell_type": "code",
   "execution_count": 13,
   "id": "4f6616dd",
   "metadata": {},
   "outputs": [
    {
     "data": {
      "text/plain": [
       "array([0, 0, 0, ..., 1, 0, 0], dtype=int64)"
      ]
     },
     "execution_count": 13,
     "metadata": {},
     "output_type": "execute_result"
    }
   ],
   "source": [
    "dbscan.labels_"
   ]
  },
  {
   "cell_type": "code",
   "execution_count": 14,
   "id": "32846172",
   "metadata": {},
   "outputs": [],
   "source": [
    "c1 = pd.DataFrame(dbscan.labels_, columns = ['cluster'])"
   ]
  },
  {
   "cell_type": "code",
   "execution_count": 17,
   "id": "c0c6298f",
   "metadata": {},
   "outputs": [],
   "source": [
    "data_final = pd.concat([data_db_num,c1],axis=1)"
   ]
  },
  {
   "cell_type": "code",
   "execution_count": 20,
   "id": "a9604619",
   "metadata": {},
   "outputs": [
    {
     "data": {
      "text/html": [
       "<div>\n",
       "<style scoped>\n",
       "    .dataframe tbody tr th:only-of-type {\n",
       "        vertical-align: middle;\n",
       "    }\n",
       "\n",
       "    .dataframe tbody tr th {\n",
       "        vertical-align: top;\n",
       "    }\n",
       "\n",
       "    .dataframe thead tr th {\n",
       "        text-align: left;\n",
       "    }\n",
       "</style>\n",
       "<table border=\"1\" class=\"dataframe\">\n",
       "  <thead>\n",
       "    <tr>\n",
       "      <th></th>\n",
       "      <th>cluster</th>\n",
       "      <th>Balance</th>\n",
       "      <th>Qual_miles</th>\n",
       "      <th>cc1_miles</th>\n",
       "      <th>cc2_miles</th>\n",
       "      <th>cc3_miles</th>\n",
       "      <th>Bonus_miles</th>\n",
       "      <th>Bonus_trans</th>\n",
       "      <th>Flight_miles_12mo</th>\n",
       "      <th>Flight_trans_12</th>\n",
       "      <th>Days_since_enroll</th>\n",
       "      <th>Award?</th>\n",
       "    </tr>\n",
       "    <tr>\n",
       "      <th></th>\n",
       "      <th></th>\n",
       "      <th>mean</th>\n",
       "      <th>mean</th>\n",
       "      <th>mean</th>\n",
       "      <th>mean</th>\n",
       "      <th>mean</th>\n",
       "      <th>mean</th>\n",
       "      <th>mean</th>\n",
       "      <th>mean</th>\n",
       "      <th>mean</th>\n",
       "      <th>mean</th>\n",
       "      <th>mean</th>\n",
       "    </tr>\n",
       "  </thead>\n",
       "  <tbody>\n",
       "    <tr>\n",
       "      <th>0</th>\n",
       "      <td>-1</td>\n",
       "      <td>208403.159664</td>\n",
       "      <td>1284.464986</td>\n",
       "      <td>2.694678</td>\n",
       "      <td>1.07563</td>\n",
       "      <td>1.137255</td>\n",
       "      <td>43353.663866</td>\n",
       "      <td>24.218487</td>\n",
       "      <td>2775.226891</td>\n",
       "      <td>8.081232</td>\n",
       "      <td>4780.661064</td>\n",
       "      <td>0.731092</td>\n",
       "    </tr>\n",
       "    <tr>\n",
       "      <th>1</th>\n",
       "      <td>0</td>\n",
       "      <td>55699.993747</td>\n",
       "      <td>27.079200</td>\n",
       "      <td>1.678616</td>\n",
       "      <td>1.00000</td>\n",
       "      <td>1.000000</td>\n",
       "      <td>9492.039183</td>\n",
       "      <td>8.661942</td>\n",
       "      <td>169.286786</td>\n",
       "      <td>0.495623</td>\n",
       "      <td>3797.929971</td>\n",
       "      <td>0.000000</td>\n",
       "    </tr>\n",
       "    <tr>\n",
       "      <th>2</th>\n",
       "      <td>1</td>\n",
       "      <td>70099.537068</td>\n",
       "      <td>33.764415</td>\n",
       "      <td>2.639209</td>\n",
       "      <td>1.00000</td>\n",
       "      <td>1.000000</td>\n",
       "      <td>24595.542010</td>\n",
       "      <td>13.647446</td>\n",
       "      <td>362.922570</td>\n",
       "      <td>1.159802</td>\n",
       "      <td>4569.943987</td>\n",
       "      <td>1.000000</td>\n",
       "    </tr>\n",
       "    <tr>\n",
       "      <th>3</th>\n",
       "      <td>2</td>\n",
       "      <td>38556.733333</td>\n",
       "      <td>0.000000</td>\n",
       "      <td>1.000000</td>\n",
       "      <td>2.00000</td>\n",
       "      <td>1.000000</td>\n",
       "      <td>8951.533333</td>\n",
       "      <td>12.933333</td>\n",
       "      <td>60.000000</td>\n",
       "      <td>0.400000</td>\n",
       "      <td>3390.400000</td>\n",
       "      <td>0.000000</td>\n",
       "    </tr>\n",
       "    <tr>\n",
       "      <th>4</th>\n",
       "      <td>3</td>\n",
       "      <td>56018.833333</td>\n",
       "      <td>1967.833333</td>\n",
       "      <td>3.333333</td>\n",
       "      <td>1.00000</td>\n",
       "      <td>1.000000</td>\n",
       "      <td>32695.166667</td>\n",
       "      <td>15.333333</td>\n",
       "      <td>166.666667</td>\n",
       "      <td>0.500000</td>\n",
       "      <td>4664.000000</td>\n",
       "      <td>1.000000</td>\n",
       "    </tr>\n",
       "    <tr>\n",
       "      <th>5</th>\n",
       "      <td>4</td>\n",
       "      <td>36524.250000</td>\n",
       "      <td>0.000000</td>\n",
       "      <td>1.000000</td>\n",
       "      <td>3.00000</td>\n",
       "      <td>1.000000</td>\n",
       "      <td>15518.500000</td>\n",
       "      <td>14.500000</td>\n",
       "      <td>50.000000</td>\n",
       "      <td>0.250000</td>\n",
       "      <td>3179.625000</td>\n",
       "      <td>0.000000</td>\n",
       "    </tr>\n",
       "  </tbody>\n",
       "</table>\n",
       "</div>"
      ],
      "text/plain": [
       "  cluster        Balance   Qual_miles cc1_miles cc2_miles cc3_miles  \\\n",
       "                    mean         mean      mean      mean      mean   \n",
       "0      -1  208403.159664  1284.464986  2.694678   1.07563  1.137255   \n",
       "1       0   55699.993747    27.079200  1.678616   1.00000  1.000000   \n",
       "2       1   70099.537068    33.764415  2.639209   1.00000  1.000000   \n",
       "3       2   38556.733333     0.000000  1.000000   2.00000  1.000000   \n",
       "4       3   56018.833333  1967.833333  3.333333   1.00000  1.000000   \n",
       "5       4   36524.250000     0.000000  1.000000   3.00000  1.000000   \n",
       "\n",
       "    Bonus_miles Bonus_trans Flight_miles_12mo Flight_trans_12  \\\n",
       "           mean        mean              mean            mean   \n",
       "0  43353.663866   24.218487       2775.226891        8.081232   \n",
       "1   9492.039183    8.661942        169.286786        0.495623   \n",
       "2  24595.542010   13.647446        362.922570        1.159802   \n",
       "3   8951.533333   12.933333         60.000000        0.400000   \n",
       "4  32695.166667   15.333333        166.666667        0.500000   \n",
       "5  15518.500000   14.500000         50.000000        0.250000   \n",
       "\n",
       "  Days_since_enroll    Award?  \n",
       "               mean      mean  \n",
       "0       4780.661064  0.731092  \n",
       "1       3797.929971  0.000000  \n",
       "2       4569.943987  1.000000  \n",
       "3       3390.400000  0.000000  \n",
       "4       4664.000000  1.000000  \n",
       "5       3179.625000  0.000000  "
      ]
     },
     "execution_count": 20,
     "metadata": {},
     "output_type": "execute_result"
    }
   ],
   "source": [
    "data_final.groupby('cluster').agg(['mean']).reset_index()"
   ]
  },
  {
   "cell_type": "code",
   "execution_count": null,
   "id": "7efd4faa",
   "metadata": {},
   "outputs": [],
   "source": []
  }
 ],
 "metadata": {
  "kernelspec": {
   "display_name": "Python 3",
   "language": "python",
   "name": "python3"
  },
  "language_info": {
   "codemirror_mode": {
    "name": "ipython",
    "version": 3
   },
   "file_extension": ".py",
   "mimetype": "text/x-python",
   "name": "python",
   "nbconvert_exporter": "python",
   "pygments_lexer": "ipython3",
   "version": "3.8.8"
  }
 },
 "nbformat": 4,
 "nbformat_minor": 5
}
